{
 "cells": [
  {
   "cell_type": "code",
   "execution_count": 19,
   "metadata": {},
   "outputs": [],
   "source": [
    "import numpy as np\n",
    "from sklearn.feature_selection import VarianceThreshold,SelectKBest\n",
    "from sklearn.feature_selection import chi2"
   ]
  },
  {
   "cell_type": "code",
   "execution_count": 20,
   "metadata": {},
   "outputs": [
    {
     "name": "stdout",
     "output_type": "stream",
     "text": [
      "[0.04714045 0.47140452 1.69967317 0.        ]\n"
     ]
    }
   ],
   "source": [
    "X = np.array([\n",
    "    [0, 2, 0, 3],\n",
    "    [0, 1, 4, 3],\n",
    "    [0.1, 1, 1, 3]\n",
    "], dtype=np.float64)\n",
    "Y = np.array([1,2,1])\n",
    "print(X.std(axis=0))"
   ]
  },
  {
   "cell_type": "markdown",
   "metadata": {},
   "source": [
    "移除方差较低的特征\n",
    "\n",
    "导入特征选择库中的VarianceThreshold用于通过方差选择特征。方差为0的特征会被自动移除。剩下的特征按设定的方差的阈值进行选择。"
   ]
  },
  {
   "cell_type": "code",
   "execution_count": 21,
   "metadata": {},
   "outputs": [
    {
     "name": "stdout",
     "output_type": "stream",
     "text": [
      "VarianceThreshold(threshold=0.1)\n",
      "[[2. 0.]\n",
      " [1. 4.]\n",
      " [1. 1.]]\n"
     ]
    }
   ],
   "source": [
    "variance = VarianceThreshold(threshold=0.1) ##设置方差的阈值为0.1\n",
    "print (variance)\n",
    "variance.fit(X)\n",
    "print (variance.transform(X)) #选择方差大于0.1的特征"
   ]
  },
  {
   "cell_type": "markdown",
   "metadata": {},
   "source": [
    "单变量特征选择-卡方检验\n",
    "\n",
    "导入特征选择库中的SelectKBest和chi2用来计算特征与结果间的相关性，并选择相关性最高的特征。"
   ]
  },
  {
   "cell_type": "code",
   "execution_count": 22,
   "metadata": {},
   "outputs": [
    {
     "name": "stdout",
     "output_type": "stream",
     "text": [
      "SelectKBest(k=2, score_func=<function chi2 at 0x00000000113BFD08>)\n",
      "[0.05  0.125 4.9   0.   ]\n",
      "[[2. 0.]\n",
      " [1. 4.]\n",
      " [1. 1.]]\n"
     ]
    }
   ],
   "source": [
    "sk2 = SelectKBest(chi2, k=2) #选择相关性最高的前2个特征\n",
    "sk2.fit(X, Y)\n",
    "print (sk2)\n",
    "print (sk2.scores_)\n",
    "print (sk2.transform(X))"
   ]
  }
 ],
 "metadata": {
  "kernelspec": {
   "display_name": "Python 3",
   "language": "python",
   "name": "python3"
  },
  "language_info": {
   "codemirror_mode": {
    "name": "ipython",
    "version": 3
   },
   "file_extension": ".py",
   "mimetype": "text/x-python",
   "name": "python",
   "nbconvert_exporter": "python",
   "pygments_lexer": "ipython3",
   "version": "3.6.2"
  }
 },
 "nbformat": 4,
 "nbformat_minor": 2
}
