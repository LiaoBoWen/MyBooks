{
 "cells": [
  {
   "cell_type": "markdown",
   "metadata": {},
   "source": [
    "* 适用比较适用在数值比较集中的情况\n",
    "\n",
    "* 缺陷：如果max和min不稳定，很容易使得归一化结果不稳定，使得后续使用效果也不稳定。实际使用中可以用经验常量来替代max和min。\n",
    "\n",
    "* 应用场景：在不涉及距离度量、协方差计算、数据不符合正太分布的时候，可以使用第一种方法或其他归一化方法（不包括Z-score方法）。比如图像处理中，将RGB图像转换为灰度图像后将其值限定在[0  255]的范围"
   ]
  },
  {
   "cell_type": "code",
   "execution_count": 1,
   "metadata": {},
   "outputs": [],
   "source": [
    "import numpy as np\n",
    "from sklearn.preprocessing import MinMaxScaler"
   ]
  },
  {
   "cell_type": "code",
   "execution_count": 2,
   "metadata": {},
   "outputs": [],
   "source": [
    "X = np.array([\n",
    "    [1, -1, 2, 3],\n",
    "    [2, 0, 0, 3],\n",
    "    [0, 1, -1, 3]\n",
    "], dtype=np.float64)"
   ]
  },
  {
   "cell_type": "code",
   "execution_count": 3,
   "metadata": {},
   "outputs": [
    {
     "data": {
      "text/plain": [
       "MinMaxScaler(copy=True, feature_range=(1, 5))"
      ]
     },
     "execution_count": 3,
     "metadata": {},
     "output_type": "execute_result"
    }
   ],
   "source": [
    "scaler = MinMaxScaler(feature_range=(1,5))\n",
    "scaler.fit(X)"
   ]
  },
  {
   "cell_type": "code",
   "execution_count": 6,
   "metadata": {},
   "outputs": [
    {
     "name": "stdout",
     "output_type": "stream",
     "text": [
      "[2. 1. 2. 3.]\n",
      "[ 0. -1. -1.  3.]\n",
      "[2. 2. 3. 0.]\n"
     ]
    }
   ],
   "source": [
    "print (scaler.data_max_)\n",
    "print (scaler.data_min_)\n",
    "print (scaler.data_range_)"
   ]
  },
  {
   "cell_type": "code",
   "execution_count": 7,
   "metadata": {},
   "outputs": [
    {
     "name": "stdout",
     "output_type": "stream",
     "text": [
      "[[3.         1.         5.         1.        ]\n",
      " [5.         3.         2.33333333 1.        ]\n",
      " [1.         5.         1.         1.        ]]\n"
     ]
    }
   ],
   "source": [
    "print (scaler.transform(X))"
   ]
  },
  {
   "cell_type": "code",
   "execution_count": 17,
   "metadata": {},
   "outputs": [
    {
     "name": "stdout",
     "output_type": "stream",
     "text": [
      "[[0.5        0.         1.                nan]\n",
      " [1.         0.5        0.33333333        nan]\n",
      " [0.         1.         0.                nan]]\n",
      "[[3.         1.         5.                nan]\n",
      " [5.         3.         2.33333333        nan]\n",
      " [1.         5.         1.                nan]]\n",
      "[[3.         1.         5.         1.        ]\n",
      " [5.         3.         2.33333333 1.        ]\n",
      " [1.         5.         1.         1.        ]]\n"
     ]
    },
    {
     "name": "stderr",
     "output_type": "stream",
     "text": [
      "D:\\TOOL\\zwPython\\py36\\python-3.6.2.amd64\\lib\\site-packages\\ipykernel_launcher.py:1: RuntimeWarning: invalid value encountered in true_divide\n",
      "  \"\"\"Entry point for launching an IPython kernel.\n"
     ]
    }
   ],
   "source": [
    "X_std = (X - X.min(axis=0)) / (X.max(axis=0) - X.min(axis=0))\n",
    "print(X_std)\n",
    "#X_scaled = X_std * (max - min) + min\n",
    "X_scaled = X_std * (5 - 1) + 1\n",
    "print(X_scaled)\n",
    "X_scaled[np.isnan(X_scaled)]=1.\n",
    "print(X_scaled)"
   ]
  },
  {
   "cell_type": "code",
   "execution_count": null,
   "metadata": {},
   "outputs": [],
   "source": []
  }
 ],
 "metadata": {
  "kernelspec": {
   "display_name": "Python 3",
   "language": "python",
   "name": "python3"
  },
  "language_info": {
   "codemirror_mode": {
    "name": "ipython",
    "version": 3
   },
   "file_extension": ".py",
   "mimetype": "text/x-python",
   "name": "python",
   "nbconvert_exporter": "python",
   "pygments_lexer": "ipython3",
   "version": "3.6.2"
  }
 },
 "nbformat": 4,
 "nbformat_minor": 2
}
