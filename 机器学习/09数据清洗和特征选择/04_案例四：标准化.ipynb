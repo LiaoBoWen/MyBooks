{
 "cells": [
  {
   "cell_type": "markdown",
   "metadata": {},
   "source": [
    "作用：去均值和方差归一化。且是针对每一个特征维度来做的，而不是针对样本。 \n",
    "【注：】 \n",
    "并不是所有的标准化都能给estimator带来好处。 \n",
    "\n",
    "(x-x.mean())/x.std()\n",
    "\n",
    "* 本方法要求原始数据的分布可以近似为高斯分布，否则归一化的效果会变得很糟糕；\n",
    "\n",
    "* 应用场景：在分类、聚类算法中，需要使用距离来度量相似性的时候、或者使用PCA技术进行降维的时候"
   ]
  },
  {
   "cell_type": "markdown",
   "metadata": {},
   "source": [
    "评价指标（即特征向量中的不同特征就是所述的不同评价指标）往往具有不同的量纲和量纲单位，这样的情况会影响到数据分析的结果，为了消除指标之间的量纲影响，需要进行数据标准化处理，以解决数据指标之间的可比性。原始数据经过数据标准化处理后，各指标处于同一数量级，适合进行综合对比评价。"
   ]
  },
  {
   "cell_type": "code",
   "execution_count": 1,
   "metadata": {},
   "outputs": [],
   "source": [
    "from sklearn.preprocessing import StandardScaler"
   ]
  },
  {
   "cell_type": "code",
   "execution_count": 2,
   "metadata": {},
   "outputs": [],
   "source": [
    "X = [\n",
    "    [1, 2, 3, 2],\n",
    "    [7, 8, 9, 2.01],\n",
    "    [4, 8, 2, 2.01],\n",
    "    [9, 5, 2, 1.99],\n",
    "    [7, 5, 3, 1.99],\n",
    "    [1, 4, 9, 2]\n",
    "]"
   ]
  },
  {
   "cell_type": "code",
   "execution_count": 13,
   "metadata": {},
   "outputs": [
    {
     "data": {
      "text/plain": [
       "StandardScaler(copy=True, with_mean=True, with_std=True)"
      ]
     },
     "execution_count": 13,
     "metadata": {},
     "output_type": "execute_result"
    }
   ],
   "source": [
    "ss = StandardScaler(with_mean=True, with_std=True)\n",
    "ss.fit(X)"
   ]
  },
  {
   "cell_type": "code",
   "execution_count": 12,
   "metadata": {},
   "outputs": [
    {
     "name": "stdout",
     "output_type": "stream",
     "text": [
      "[4.83333333 5.33333333 4.66666667 2.        ]\n",
      "6\n",
      "[3.07769755 2.13437475 3.09120617 0.00816497]\n"
     ]
    }
   ],
   "source": [
    "print (ss.mean_)\n",
    "print (ss.n_samples_seen_)\n",
    "print (ss.scale_)"
   ]
  },
  {
   "cell_type": "code",
   "execution_count": 11,
   "metadata": {},
   "outputs": [
    {
     "name": "stdout",
     "output_type": "stream",
     "text": [
      "[[-1.24551983 -1.56173762 -0.53916387  0.        ]\n",
      " [ 0.70398947  1.2493901   1.40182605  1.22474487]\n",
      " [-0.27076518  1.2493901  -0.86266219  1.22474487]\n",
      " [ 1.3538259  -0.15617376 -0.86266219 -1.22474487]\n",
      " [ 0.70398947 -0.15617376 -0.53916387 -1.22474487]\n",
      " [-1.24551983 -0.62469505  1.40182605  0.        ]]\n"
     ]
    }
   ],
   "source": [
    "print (ss.transform(X))"
   ]
  },
  {
   "cell_type": "code",
   "execution_count": 14,
   "metadata": {},
   "outputs": [
    {
     "name": "stdout",
     "output_type": "stream",
     "text": [
      "          0         1         2         3\n",
      "0 -1.136999 -1.425665 -0.492187  0.000000\n",
      "1  0.642652  1.140532  1.279686  1.118034\n",
      "2 -0.247174  1.140532 -0.787499  1.118034\n",
      "3  1.235868 -0.142566 -0.787499 -1.118034\n",
      "4  0.642652 -0.142566 -0.492187 -1.118034\n",
      "5 -1.136999 -0.570266  1.279686  0.000000\n"
     ]
    }
   ],
   "source": [
    "import  pandas as pd\n",
    "y = pd.DataFrame(X)\n",
    "z = y.apply(lambda x:(x - x.mean())/x.std())\n",
    "print(z)"
   ]
  },
  {
   "cell_type": "code",
   "execution_count": 15,
   "metadata": {},
   "outputs": [
    {
     "name": "stdout",
     "output_type": "stream",
     "text": [
      "          0         1         2         3\n",
      "0 -1.245520 -1.561738 -0.539164  0.000000\n",
      "1  0.703989  1.249390  1.401826  1.224745\n",
      "2 -0.270765  1.249390 -0.862662  1.224745\n",
      "3  1.353826 -0.156174 -0.862662 -1.224745\n",
      "4  0.703989 -0.156174 -0.539164 -1.224745\n",
      "5 -1.245520 -0.624695  1.401826  0.000000\n"
     ]
    }
   ],
   "source": [
    "w = y.apply(lambda x:(x - x.mean())/x.std(ddof=0)) #修正因子\n",
    "print(w)"
   ]
  },
  {
   "cell_type": "markdown",
   "metadata": {},
   "source": []
  },
  {
   "cell_type": "markdown",
   "metadata": {},
   "source": [
    "1）归一化后加快了梯度下降求最优解的速度；\n",
    "\n",
    "2）归一化有可能提高精度（如KNN）\n",
    "\n",
    "注：没有一种数据标准化的方法，放在每一个问题，放在每一个模型，都能提高算法精度和加速算法的收敛速度。"
   ]
  }
 ],
 "metadata": {
  "kernelspec": {
   "display_name": "Python 3",
   "language": "python",
   "name": "python3"
  },
  "language_info": {
   "codemirror_mode": {
    "name": "ipython",
    "version": 3
   },
   "file_extension": ".py",
   "mimetype": "text/x-python",
   "name": "python",
   "nbconvert_exporter": "python",
   "pygments_lexer": "ipython3",
   "version": "3.6.2"
  }
 },
 "nbformat": 4,
 "nbformat_minor": 2
}
